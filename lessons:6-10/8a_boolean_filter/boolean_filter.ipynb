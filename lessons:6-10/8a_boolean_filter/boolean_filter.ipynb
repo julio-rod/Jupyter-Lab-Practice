{
 "cells": [
  {
   "cell_type": "code",
   "execution_count": 3,
   "id": "224d3d80-17c6-48fb-9f3c-98fc3d67219c",
   "metadata": {},
   "outputs": [],
   "source": [
    "import pandas as pd\n",
    "import numpy as np"
   ]
  },
  {
   "cell_type": "code",
   "execution_count": null,
   "id": "c1199ffd-ffd2-4efb-8a00-2663a8caf17d",
   "metadata": {},
   "outputs": [],
   "source": [
    "# Construct the Boolean filter so that the code eliminates GOOG from the DataFrame."
   ]
  },
  {
   "cell_type": "code",
   "execution_count": 4,
   "id": "26b0d154-2a34-4449-a677-34d6cee33dd1",
   "metadata": {},
   "outputs": [
    {
     "data": {
      "text/html": [
       "<div>\n",
       "<style scoped>\n",
       "    .dataframe tbody tr th:only-of-type {\n",
       "        vertical-align: middle;\n",
       "    }\n",
       "\n",
       "    .dataframe tbody tr th {\n",
       "        vertical-align: top;\n",
       "    }\n",
       "\n",
       "    .dataframe thead th {\n",
       "        text-align: right;\n",
       "    }\n",
       "</style>\n",
       "<table border=\"1\" class=\"dataframe\">\n",
       "  <thead>\n",
       "    <tr style=\"text-align: right;\">\n",
       "      <th></th>\n",
       "      <th>AAPL</th>\n",
       "      <th>MSFT</th>\n",
       "    </tr>\n",
       "  </thead>\n",
       "  <tbody>\n",
       "    <tr>\n",
       "      <th>0</th>\n",
       "      <td>0.484309</td>\n",
       "      <td>-0.319181</td>\n",
       "    </tr>\n",
       "    <tr>\n",
       "      <th>1</th>\n",
       "      <td>0.165568</td>\n",
       "      <td>-0.537588</td>\n",
       "    </tr>\n",
       "    <tr>\n",
       "      <th>2</th>\n",
       "      <td>0.513208</td>\n",
       "      <td>-0.655551</td>\n",
       "    </tr>\n",
       "    <tr>\n",
       "      <th>3</th>\n",
       "      <td>-0.309639</td>\n",
       "      <td>-0.188064</td>\n",
       "    </tr>\n",
       "    <tr>\n",
       "      <th>4</th>\n",
       "      <td>-0.781549</td>\n",
       "      <td>-0.543530</td>\n",
       "    </tr>\n",
       "  </tbody>\n",
       "</table>\n",
       "</div>"
      ],
      "text/plain": [
       "       AAPL      MSFT\n",
       "0  0.484309 -0.319181\n",
       "1  0.165568 -0.537588\n",
       "2  0.513208 -0.655551\n",
       "3 -0.309639 -0.188064\n",
       "4 -0.781549 -0.543530"
      ]
     },
     "execution_count": 4,
     "metadata": {},
     "output_type": "execute_result"
    }
   ],
   "source": [
    "daily_returns = pd.DataFrame({\n",
    "    'AAPL': np.random.randn(5),\n",
    "    'GOOG': np.random.randn(5),\n",
    "    'MSFT': np.random.randn(5),\n",
    "})\n",
    "daily_returns\n",
    "boolean_filter = [True, False, True]\n",
    "daily_returns.loc[:, boolean_filter]"
   ]
  },
  {
   "cell_type": "code",
   "execution_count": null,
   "id": "a1058e16-670d-45aa-ab41-dae7e1ac55e4",
   "metadata": {},
   "outputs": [],
   "source": []
  }
 ],
 "metadata": {
  "kernelspec": {
   "display_name": "Python (dev)",
   "language": "python",
   "name": "dev"
  },
  "language_info": {
   "codemirror_mode": {
    "name": "ipython",
    "version": 3
   },
   "file_extension": ".py",
   "mimetype": "text/x-python",
   "name": "python",
   "nbconvert_exporter": "python",
   "pygments_lexer": "ipython3",
   "version": "3.7.13"
  }
 },
 "nbformat": 4,
 "nbformat_minor": 5
}
