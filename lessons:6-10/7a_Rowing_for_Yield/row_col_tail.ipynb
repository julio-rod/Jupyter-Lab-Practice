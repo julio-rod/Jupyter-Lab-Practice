{
 "cells": [
  {
   "cell_type": "code",
   "execution_count": 3,
   "id": "540c5275-6650-4b6f-9ec2-d8990cc13d51",
   "metadata": {},
   "outputs": [
    {
     "data": {
      "text/html": [
       "<div>\n",
       "<style scoped>\n",
       "    .dataframe tbody tr th:only-of-type {\n",
       "        vertical-align: middle;\n",
       "    }\n",
       "\n",
       "    .dataframe tbody tr th {\n",
       "        vertical-align: top;\n",
       "    }\n",
       "\n",
       "    .dataframe thead th {\n",
       "        text-align: right;\n",
       "    }\n",
       "</style>\n",
       "<table border=\"1\" class=\"dataframe\">\n",
       "  <thead>\n",
       "    <tr style=\"text-align: right;\">\n",
       "      <th></th>\n",
       "      <th>AAPL</th>\n",
       "      <th>GOOG</th>\n",
       "    </tr>\n",
       "  </thead>\n",
       "  <tbody>\n",
       "    <tr>\n",
       "      <th>2020-01-01</th>\n",
       "      <td>0.089553</td>\n",
       "      <td>0.324318</td>\n",
       "    </tr>\n",
       "    <tr>\n",
       "      <th>2020-01-02</th>\n",
       "      <td>-0.087832</td>\n",
       "      <td>-0.120940</td>\n",
       "    </tr>\n",
       "    <tr>\n",
       "      <th>2020-01-03</th>\n",
       "      <td>-0.412761</td>\n",
       "      <td>0.249606</td>\n",
       "    </tr>\n",
       "    <tr>\n",
       "      <th>2020-01-04</th>\n",
       "      <td>1.006234</td>\n",
       "      <td>-1.142512</td>\n",
       "    </tr>\n",
       "    <tr>\n",
       "      <th>2020-01-05</th>\n",
       "      <td>2.735417</td>\n",
       "      <td>-0.025705</td>\n",
       "    </tr>\n",
       "  </tbody>\n",
       "</table>\n",
       "</div>"
      ],
      "text/plain": [
       "                AAPL      GOOG\n",
       "2020-01-01  0.089553  0.324318\n",
       "2020-01-02 -0.087832 -0.120940\n",
       "2020-01-03 -0.412761  0.249606\n",
       "2020-01-04  1.006234 -1.142512\n",
       "2020-01-05  2.735417 -0.025705"
      ]
     },
     "execution_count": 3,
     "metadata": {},
     "output_type": "execute_result"
    }
   ],
   "source": [
    "import pandas as pd\n",
    "import numpy as np\n",
    "daily_returns = pd.DataFrame(\n",
    "    np.random.randn(10, 2),\n",
    "    index=pd.date_range('1/1/2020', periods=10),\n",
    "    columns=[\"AAPL\", \"GOOG\"])\n",
    "daily_returns.head()\n"
   ]
  },
  {
   "cell_type": "code",
   "execution_count": 4,
   "id": "b24fcc26-99f6-429a-9fbd-fab87c902550",
   "metadata": {},
   "outputs": [
    {
     "data": {
      "text/plain": [
       "2020-01-01    0.089553\n",
       "2020-01-02   -0.087832\n",
       "2020-01-03   -0.412761\n",
       "Freq: D, Name: AAPL, dtype: float64"
      ]
     },
     "execution_count": 4,
     "metadata": {},
     "output_type": "execute_result"
    }
   ],
   "source": [
    "# Select the first three rows and the first column\n",
    "daily_returns.iloc[0:3, 0]"
   ]
  },
  {
   "cell_type": "code",
   "execution_count": 6,
   "id": "ff4fcc0e-c724-4407-9d90-c67c01293b41",
   "metadata": {},
   "outputs": [
    {
     "data": {
      "text/plain": [
       "2020-01-06   -1.420042\n",
       "2020-01-07    1.033376\n",
       "2020-01-08   -0.307174\n",
       "2020-01-09   -1.212513\n",
       "2020-01-10    0.027270\n",
       "Freq: D, Name: GOOG, dtype: float64"
      ]
     },
     "execution_count": 6,
     "metadata": {},
     "output_type": "execute_result"
    }
   ],
   "source": [
    "# Select all rows for the \"GOOG\" column\n",
    "google_returns = daily_returns.loc[:, \"GOOG\"]\n",
    "google_returns.tail()"
   ]
  },
  {
   "cell_type": "code",
   "execution_count": null,
   "id": "4e5e5a7a-9102-472f-bfb0-62a93ad5fa3f",
   "metadata": {},
   "outputs": [],
   "source": [
    "# The tail, or the last five rows, of the new google_returns DataFrame display, as the following image shows:"
   ]
  },
  {
   "cell_type": "code",
   "execution_count": null,
   "id": "68bd420a-cc6e-463a-b367-eb57e940906f",
   "metadata": {},
   "outputs": [],
   "source": [
    "# Note the trick that we used: to select all the rows, we used a colon (:) for the rows position. \n",
    "# The same rule applies to columns. When we add a colon without a start or end position, \n",
    "# it tells Pandas to grab everything.\n",
    "\n",
    "# In the next activity, you’ll return to the government yields scenario from the previous activity. \n",
    "# But this time, you’ll select both the rows and the columns of data that you need for your analysis.\n",
    "# - spot"
   ]
  }
 ],
 "metadata": {
  "kernelspec": {
   "display_name": "Python (dev)",
   "language": "python",
   "name": "dev"
  },
  "language_info": {
   "codemirror_mode": {
    "name": "ipython",
    "version": 3
   },
   "file_extension": ".py",
   "mimetype": "text/x-python",
   "name": "python",
   "nbconvert_exporter": "python",
   "pygments_lexer": "ipython3",
   "version": "3.7.13"
  }
 },
 "nbformat": 4,
 "nbformat_minor": 5
}
