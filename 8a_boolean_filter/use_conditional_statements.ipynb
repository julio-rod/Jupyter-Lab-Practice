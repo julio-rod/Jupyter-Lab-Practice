{
 "cells": [
  {
   "cell_type": "code",
   "execution_count": 1,
   "id": "f6f0f755-6d08-44ad-afff-86512b6e30fc",
   "metadata": {},
   "outputs": [],
   "source": [
    "### Use Conditional Statements\n",
    "# Now you know how to filter rows and columns by using Boolean values. \n",
    "# But can you imagine writing a Boolean filter for 1 million rows of data? No thanks!\n",
    "\n",
    "# For a task of this size, we can use a different technique. \n",
    "# With Pandas, we can create Boolean filters from conditional statements by using the values of a DataFrame.\n",
    "# - Spot"
   ]
  },
  {
   "cell_type": "code",
   "execution_count": null,
   "id": "4dd8dfc1-4f21-4274-ac58-2d00aed42c4c",
   "metadata": {},
   "outputs": [],
   "source": [
    "# Suppose that you’re given a DataFrame containing 20 return values for Apple stock. \n",
    "# You’re asked to provide only those data points that have positive returns, \n",
    "# meaning those that are greater than zero. \n",
    "# To get this information, you can use the conditional statement that’s the last line in the following code: \n",
    "# -spot"
   ]
  },
  {
   "cell_type": "code",
   "execution_count": 2,
   "id": "5eadf0d8-7233-4f6f-95a8-a9a8a6b5ab3e",
   "metadata": {},
   "outputs": [],
   "source": [
    "import pandas as pd\n",
    "import numpy as np"
   ]
  },
  {
   "cell_type": "code",
   "execution_count": 3,
   "id": "cc032ec8-97c1-499d-9e44-cd76a2086478",
   "metadata": {},
   "outputs": [
    {
     "data": {
      "text/plain": [
       "0     True\n",
       "1    False\n",
       "2     True\n",
       "3     True\n",
       "4     True\n",
       "5     True\n",
       "6    False\n",
       "7     True\n",
       "8     True\n",
       "9     True\n",
       "Name: AAPL, dtype: bool"
      ]
     },
     "execution_count": 3,
     "metadata": {},
     "output_type": "execute_result"
    }
   ],
   "source": [
    "# Create a returns DataFrame for Apple\n",
    "aapl_returns = pd.DataFrame({'AAPL': np.random.randn(10) + 1}) #⭐️#NOTE: results are randomly generated!⭐️\n",
    "\n",
    "# Create the conditional statement\n",
    "# The condition evaluates True if the aapl_returns[''] are greater than 0\n",
    "# The condition evaluates False otherwise\n",
    "aapl_returns[\"AAPL\"] > 0"
   ]
  },
  {
   "cell_type": "code",
   "execution_count": 4,
   "id": "83c38759-c535-48bb-baf6-af4f71f1d211",
   "metadata": {},
   "outputs": [],
   "source": [
    "# The key takeaway is that the code labeled all DataFrame values that are less than zero as False— spot"
   ]
  },
  {
   "cell_type": "code",
   "execution_count": 5,
   "id": "1bfc90c9-19c5-4333-aea6-a01099be407e",
   "metadata": {},
   "outputs": [
    {
     "data": {
      "text/html": [
       "<div>\n",
       "<style scoped>\n",
       "    .dataframe tbody tr th:only-of-type {\n",
       "        vertical-align: middle;\n",
       "    }\n",
       "\n",
       "    .dataframe tbody tr th {\n",
       "        vertical-align: top;\n",
       "    }\n",
       "\n",
       "    .dataframe thead th {\n",
       "        text-align: right;\n",
       "    }\n",
       "</style>\n",
       "<table border=\"1\" class=\"dataframe\">\n",
       "  <thead>\n",
       "    <tr style=\"text-align: right;\">\n",
       "      <th></th>\n",
       "      <th>AAPL</th>\n",
       "    </tr>\n",
       "  </thead>\n",
       "  <tbody>\n",
       "    <tr>\n",
       "      <th>0</th>\n",
       "      <td>0.506220</td>\n",
       "    </tr>\n",
       "    <tr>\n",
       "      <th>2</th>\n",
       "      <td>0.185556</td>\n",
       "    </tr>\n",
       "    <tr>\n",
       "      <th>3</th>\n",
       "      <td>1.798273</td>\n",
       "    </tr>\n",
       "    <tr>\n",
       "      <th>4</th>\n",
       "      <td>1.237527</td>\n",
       "    </tr>\n",
       "    <tr>\n",
       "      <th>5</th>\n",
       "      <td>1.544334</td>\n",
       "    </tr>\n",
       "    <tr>\n",
       "      <th>7</th>\n",
       "      <td>0.207565</td>\n",
       "    </tr>\n",
       "    <tr>\n",
       "      <th>8</th>\n",
       "      <td>0.865988</td>\n",
       "    </tr>\n",
       "    <tr>\n",
       "      <th>9</th>\n",
       "      <td>0.097951</td>\n",
       "    </tr>\n",
       "  </tbody>\n",
       "</table>\n",
       "</div>"
      ],
      "text/plain": [
       "       AAPL\n",
       "0  0.506220\n",
       "2  0.185556\n",
       "3  1.798273\n",
       "4  1.237527\n",
       "5  1.544334\n",
       "7  0.207565\n",
       "8  0.865988\n",
       "9  0.097951"
      ]
     },
     "execution_count": 5,
     "metadata": {},
     "output_type": "execute_result"
    }
   ],
   "source": [
    "# keeping the positive and dropping the negative values.\n",
    "boolean_filter = aapl_returns[\"AAPL\"] > 0\n",
    "\n",
    "aapl_returns.loc[boolean_filter]"
   ]
  },
  {
   "cell_type": "code",
   "execution_count": 6,
   "id": "770b101c-2c7b-43b3-9406-2f0f352db7e0",
   "metadata": {},
   "outputs": [
    {
     "data": {
      "text/html": [
       "<div>\n",
       "<style scoped>\n",
       "    .dataframe tbody tr th:only-of-type {\n",
       "        vertical-align: middle;\n",
       "    }\n",
       "\n",
       "    .dataframe tbody tr th {\n",
       "        vertical-align: top;\n",
       "    }\n",
       "\n",
       "    .dataframe thead th {\n",
       "        text-align: right;\n",
       "    }\n",
       "</style>\n",
       "<table border=\"1\" class=\"dataframe\">\n",
       "  <thead>\n",
       "    <tr style=\"text-align: right;\">\n",
       "      <th></th>\n",
       "      <th>AAPL</th>\n",
       "    </tr>\n",
       "  </thead>\n",
       "  <tbody>\n",
       "    <tr>\n",
       "      <th>0</th>\n",
       "      <td>0.506220</td>\n",
       "    </tr>\n",
       "    <tr>\n",
       "      <th>1</th>\n",
       "      <td>-0.006887</td>\n",
       "    </tr>\n",
       "    <tr>\n",
       "      <th>2</th>\n",
       "      <td>0.185556</td>\n",
       "    </tr>\n",
       "    <tr>\n",
       "      <th>3</th>\n",
       "      <td>1.798273</td>\n",
       "    </tr>\n",
       "    <tr>\n",
       "      <th>4</th>\n",
       "      <td>1.237527</td>\n",
       "    </tr>\n",
       "    <tr>\n",
       "      <th>5</th>\n",
       "      <td>1.544334</td>\n",
       "    </tr>\n",
       "    <tr>\n",
       "      <th>6</th>\n",
       "      <td>-0.203239</td>\n",
       "    </tr>\n",
       "    <tr>\n",
       "      <th>7</th>\n",
       "      <td>0.207565</td>\n",
       "    </tr>\n",
       "    <tr>\n",
       "      <th>8</th>\n",
       "      <td>0.865988</td>\n",
       "    </tr>\n",
       "    <tr>\n",
       "      <th>9</th>\n",
       "      <td>0.097951</td>\n",
       "    </tr>\n",
       "  </tbody>\n",
       "</table>\n",
       "</div>"
      ],
      "text/plain": [
       "       AAPL\n",
       "0  0.506220\n",
       "1 -0.006887\n",
       "2  0.185556\n",
       "3  1.798273\n",
       "4  1.237527\n",
       "5  1.544334\n",
       "6 -0.203239\n",
       "7  0.207565\n",
       "8  0.865988\n",
       "9  0.097951"
      ]
     },
     "execution_count": 6,
     "metadata": {},
     "output_type": "execute_result"
    }
   ],
   "source": [
    "filter_low = aapl_returns[\"AAPL\"] > 0 #use a descriptive variable to identify the original conditional statement, which filters out negative return values. \n",
    "aapl_returns.loc[filter_low]\n",
    "\n",
    "filter_high = aapl_returns[\"AAPL\"] <= 2#use a variable to identify the conditional statement that removes the return values that are greater than 2%. \n",
    "aapl_returns.loc[filter_high]"
   ]
  },
  {
   "cell_type": "code",
   "execution_count": 7,
   "id": "f139c908-9907-43ba-9b7e-4942a3548aac",
   "metadata": {},
   "outputs": [
    {
     "data": {
      "text/html": [
       "<div>\n",
       "<style scoped>\n",
       "    .dataframe tbody tr th:only-of-type {\n",
       "        vertical-align: middle;\n",
       "    }\n",
       "\n",
       "    .dataframe tbody tr th {\n",
       "        vertical-align: top;\n",
       "    }\n",
       "\n",
       "    .dataframe thead th {\n",
       "        text-align: right;\n",
       "    }\n",
       "</style>\n",
       "<table border=\"1\" class=\"dataframe\">\n",
       "  <thead>\n",
       "    <tr style=\"text-align: right;\">\n",
       "      <th></th>\n",
       "      <th>AAPL</th>\n",
       "    </tr>\n",
       "  </thead>\n",
       "  <tbody>\n",
       "    <tr>\n",
       "      <th>0</th>\n",
       "      <td>0.506220</td>\n",
       "    </tr>\n",
       "    <tr>\n",
       "      <th>2</th>\n",
       "      <td>0.185556</td>\n",
       "    </tr>\n",
       "    <tr>\n",
       "      <th>3</th>\n",
       "      <td>1.798273</td>\n",
       "    </tr>\n",
       "    <tr>\n",
       "      <th>4</th>\n",
       "      <td>1.237527</td>\n",
       "    </tr>\n",
       "    <tr>\n",
       "      <th>5</th>\n",
       "      <td>1.544334</td>\n",
       "    </tr>\n",
       "    <tr>\n",
       "      <th>7</th>\n",
       "      <td>0.207565</td>\n",
       "    </tr>\n",
       "    <tr>\n",
       "      <th>8</th>\n",
       "      <td>0.865988</td>\n",
       "    </tr>\n",
       "    <tr>\n",
       "      <th>9</th>\n",
       "      <td>0.097951</td>\n",
       "    </tr>\n",
       "  </tbody>\n",
       "</table>\n",
       "</div>"
      ],
      "text/plain": [
       "       AAPL\n",
       "0  0.506220\n",
       "2  0.185556\n",
       "3  1.798273\n",
       "4  1.237527\n",
       "5  1.544334\n",
       "7  0.207565\n",
       "8  0.865988\n",
       "9  0.097951"
      ]
     },
     "execution_count": 7,
     "metadata": {},
     "output_type": "execute_result"
    }
   ],
   "source": [
    "filter_low = aapl_returns[\"AAPL\"] > 0\n",
    "filter_high = aapl_returns[\"AAPL\"] <= 2\n",
    "aapl_returns.loc[filter_low & filter_high] # The `&` operator combines the first and second filters."
   ]
  },
  {
   "cell_type": "code",
   "execution_count": null,
   "id": "3ee471a8-cdd3-4734-94dc-2970d955347b",
   "metadata": {},
   "outputs": [],
   "source": []
  }
 ],
 "metadata": {
  "kernelspec": {
   "display_name": "Python (dev)",
   "language": "python",
   "name": "dev"
  },
  "language_info": {
   "codemirror_mode": {
    "name": "ipython",
    "version": 3
   },
   "file_extension": ".py",
   "mimetype": "text/x-python",
   "name": "python",
   "nbconvert_exporter": "python",
   "pygments_lexer": "ipython3",
   "version": "3.7.13"
  }
 },
 "nbformat": 4,
 "nbformat_minor": 5
}
