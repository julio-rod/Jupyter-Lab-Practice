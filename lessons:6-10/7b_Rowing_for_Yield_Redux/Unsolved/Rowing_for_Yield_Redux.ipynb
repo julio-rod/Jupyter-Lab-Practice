{
 "cells": [
  {
   "cell_type": "markdown",
   "metadata": {},
   "source": [
    "# Rowing for Yield Redux\n",
    "\n",
    "In this activity, you'll revisit the government yields scenario from the “Rowing for Yield” activity, but this time, you’ll focus on data for US yields.\n",
    "\n",
    "Instructions:\n",
    "\n",
    "1. Import the Pandas and `pathlib` libraries.\n",
    "\n",
    "2. Use `Path` with the `read_csv` function to read the CSV file into the DataFrame. Review the first 10 rows of the DataFrame to confirm the import.\n",
    "\n",
    "3. Use the `iloc` function to select the first 10 rows of data and the third column.\n",
    "\n",
    "4. Use the `loc` function to select all the rows for the USA yields column. Review the first five rows to confirm the new DataFrame.\n",
    "\n",
    "5. Plot the distribution of the USA yields column in a histogram."
   ]
  },
  {
   "cell_type": "markdown",
   "metadata": {},
   "source": [
    "## Step 1: Import the Pandas and `pathlib` libraries."
   ]
  },
  {
   "cell_type": "code",
   "execution_count": null,
   "metadata": {},
   "outputs": [],
   "source": [
    "# Import the Pandas library\n",
    "import pandas as pd\n",
    "\n",
    "\n",
    "# Import the Path module from the pathlib library\n",
    "from pathlib import Path\n"
   ]
  },
  {
   "cell_type": "markdown",
   "metadata": {},
   "source": [
    "## Step 2: Use `Path` with the `read_csv` function to read the CSV file into the DataFrame. Review the first 10 rows of the DataFrame to confirm the import."
   ]
  },
  {
   "cell_type": "code",
   "execution_count": null,
   "metadata": {},
   "outputs": [],
   "source": [
    "# Read in the CSV file called \"country_bond_rates.csv\" using the Path module. \n",
    "# The CSV file is located in the Resources folder.\n",
    "# Set the index to the column \"Date\"\n",
    "# Set the parse_dates and infer_datetime_format parameters\n",
    "bond_rates_df = pd.read_csv(\n",
    "    Path('../Resources/country_bond_rates.csv'),\n",
    "    index_col='Date',\n",
    "    parse_dates=True,\n",
    "    infer_datetime_format=True)\n",
    "\n",
    "\n",
    "# Review the first 10 rows of the DataFrame\n",
    "bond_rates_df.head(10)\n"
   ]
  },
  {
   "cell_type": "markdown",
   "metadata": {},
   "source": [
    "## Step 3: Use the `iloc` function to select the first 10 rows of data and the third column."
   ]
  },
  {
   "cell_type": "code",
   "execution_count": 5,
   "metadata": {},
   "outputs": [
    {
     "data": {
      "text/plain": [
       "Date\n",
       "2000-01-01    5.8227\n",
       "2000-02-01    5.6347\n",
       "2000-03-01    5.3707\n",
       "2000-04-01    5.3213\n",
       "2000-05-01    5.4033\n",
       "2000-06-01    5.2097\n",
       "2000-07-01    5.2388\n",
       "2000-08-01    5.3312\n",
       "2000-09-01    5.3873\n",
       "2000-10-01    5.2179\n",
       "Name: United Kingdom, dtype: float64"
      ]
     },
     "execution_count": 5,
     "metadata": {},
     "output_type": "execute_result"
    }
   ],
   "source": [
    "# Using the iloc function, select the first 10 rows and the third column from the DataFrame\n",
    "bond_rates_df.iloc[0:10, 3]\n"
   ]
  },
  {
   "cell_type": "markdown",
   "metadata": {},
   "source": [
    "## Step 4: Use the `loc` function to select all the rows for the USA yields column. Review the first five rows to confirm the new DataFrame."
   ]
  },
  {
   "cell_type": "code",
   "execution_count": 7,
   "metadata": {},
   "outputs": [
    {
     "data": {
      "text/plain": [
       "Date\n",
       "2000-01-01    5.33\n",
       "2000-02-01    5.56\n",
       "2000-03-01    5.72\n",
       "2000-04-01    5.66\n",
       "2000-05-01    5.92\n",
       "Name: USA, dtype: float64"
      ]
     },
     "execution_count": 7,
     "metadata": {},
     "output_type": "execute_result"
    }
   ],
   "source": [
    "# Using the loc function, select all rows for the \"USA\" column from the DataFrame\n",
    "usa_yields = bond_rates_df.loc[:, 'USA']\n",
    "\n",
    "# Review the first 5 rows of the 'usa_yields' DataFrame\n",
    "usa_yields.head()\n"
   ]
  },
  {
   "cell_type": "markdown",
   "metadata": {},
   "source": [
    "## Step 5: Plot the distribution of the USA yields column in a histogram."
   ]
  },
  {
   "cell_type": "code",
   "execution_count": 8,
   "metadata": {},
   "outputs": [
    {
     "data": {
      "text/plain": [
       "<AxesSubplot:ylabel='Frequency'>"
      ]
     },
     "execution_count": 8,
     "metadata": {},
     "output_type": "execute_result"
    },
    {
     "data": {
      "image/png": "[encoded data removed]",
      "text/plain": [
       "<Figure size 640x480 with 1 Axes>"
      ]
     },
     "metadata": {},
     "output_type": "display_data"
    }
   ],
   "source": [
    "# Plot a histogram of the 'usa_yields' DataFrame\n",
    "usa_yields.plot(kind='hist')\n"
   ]
  },
  {
   "cell_type": "markdown",
   "metadata": {},
   "source": [
    "Notice that when you visualized the `usa_yields` DataFrame, that interest rates on government bonds used to be much higher at rates between 5% and 6% per year. Today's interest rates of less than 1% are now normal across the globe. Though it isdebated as to why, we're definitely in a low-yield environment."
   ]
  },
  {
   "cell_type": "code",
   "execution_count": null,
   "metadata": {},
   "outputs": [],
   "source": []
  }
 ],
 "metadata": {
  "kernelspec": {
   "display_name": "Python 3 (ipykernel)",
   "language": "python",
   "name": "python3"
  },
  "language_info": {
   "codemirror_mode": {
    "name": "ipython",
    "version": 3
   },
   "file_extension": ".py",
   "mimetype": "text/x-python",
   "name": "python",
   "nbconvert_exporter": "python",
   "pygments_lexer": "ipython3",
   "version": "3.7.13"
  }
 },
 "nbformat": 4,
 "nbformat_minor": 4
}
